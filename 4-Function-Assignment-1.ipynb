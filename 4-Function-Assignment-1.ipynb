{
 "cells": [
  {
   "cell_type": "code",
   "execution_count": 2,
   "id": "7df827d0",
   "metadata": {},
   "outputs": [
    {
     "name": "stdout",
     "output_type": "stream",
     "text": [
      "Sub-fields in AI are:\n",
      "Machine Learning\n",
      "Neural Networks\n",
      "Vision\n",
      "Robotics\n",
      "Speech Processing\n",
      "Natural Language Processing\n"
     ]
    }
   ],
   "source": [
    "class MyList:\n",
    "    def __init__(self, initial_items=None):\n",
    "       \n",
    "        if initial_items is None:\n",
    "            self.items = []\n",
    "        else:\n",
    "            self.items = list(initial_items) # Ensure a copy is made\n",
    "\n",
    "    def add_item(self, item):\n",
    "\n",
    "        self.items.append(item)\n",
    "\n",
    "    def list_items(self):\n",
    "\n",
    "        if not self.items:\n",
    "            print(\"The Sub-fields are empty.\")\n",
    "        else:\n",
    "            print(\"Sub-fields in AI are:\")\n",
    "            for item in self.items:\n",
    "                print(f\"{item}\")\n",
    "\n",
    "# Assignment usage\n",
    "my_list = MyList([\"Machine Learning\", \"Neural Networks\", \"Vision\", \"Robotics\", \"Speech Processing\", \"Natural Language Processing\"])\n",
    "my_list.list_items()"
   ]
  },
  {
   "cell_type": "code",
   "execution_count": 23,
   "id": "87ee9cb8",
   "metadata": {},
   "outputs": [],
   "source": [
    "def OddEven():\n",
    "    user_input = input(\"Enter a number: \")\n",
    "    number = int(user_input)\n",
    "    if number % 2 == 0:\n",
    "        message = str(number) + ' is an Even number'\n",
    "    else:\n",
    "        message = str(number) + ' is an Odd number'\n",
    "    return message\n"
   ]
  },
  {
   "cell_type": "code",
   "execution_count": 24,
   "id": "b7ade423",
   "metadata": {},
   "outputs": [
    {
     "name": "stdout",
     "output_type": "stream",
     "text": [
      "Enter a number: 45\n"
     ]
    },
    {
     "data": {
      "text/plain": [
       "'45 is an Odd number'"
      ]
     },
     "execution_count": 24,
     "metadata": {},
     "output_type": "execute_result"
    }
   ],
   "source": [
    "OddEven()\n"
   ]
  },
  {
   "cell_type": "code",
   "execution_count": 31,
   "id": "6c599db0",
   "metadata": {},
   "outputs": [],
   "source": [
    "def Elegible():\n",
    "    gender = str(input(\"Your Gender : \"))\n",
    "    age = int(input(\"Your Age : \"))\n",
    "              \n",
    "    if gender == \"Male\":\n",
    "              if age > 21:\n",
    "                  message = 'ELIGIBLE'\n",
    "              else:\n",
    "                  message = 'NOT ELIGIBLE'\n",
    "    else:\n",
    "              if age > 18:\n",
    "                  message = 'ELIGIBLE'\n",
    "              else:\n",
    "                  message = 'NOT ELIGIBLE'\n",
    "    return message"
   ]
  },
  {
   "cell_type": "code",
   "execution_count": 32,
   "id": "0c114c54",
   "metadata": {},
   "outputs": [
    {
     "name": "stdout",
     "output_type": "stream",
     "text": [
      "Your Gender : Male\n",
      "Your Age : 20\n"
     ]
    },
    {
     "data": {
      "text/plain": [
       "'NOT ELIGIBLE'"
      ]
     },
     "execution_count": 32,
     "metadata": {},
     "output_type": "execute_result"
    }
   ],
   "source": [
    "Elegible()"
   ]
  },
  {
   "cell_type": "code",
   "execution_count": 39,
   "id": "d5e36a3e",
   "metadata": {},
   "outputs": [],
   "source": [
    "def percentage():\n",
    "    marks = [98,87,95,95,93]\n",
    "    subjects = len(marks)\n",
    "    total = sum(marks)\n",
    "    count = 1\n",
    "    for a_mark in marks:\n",
    "        print('Subject', count, ' = ', a_mark)\n",
    "        count += 1\n",
    "    print('Total : ', total)\n",
    "    print('Percentage : ', total / subjects)"
   ]
  },
  {
   "cell_type": "code",
   "execution_count": 40,
   "id": "6bd08ec1",
   "metadata": {},
   "outputs": [
    {
     "name": "stdout",
     "output_type": "stream",
     "text": [
      "Subject 1  =  98\n",
      "Subject 2  =  87\n",
      "Subject 3  =  95\n",
      "Subject 4  =  95\n",
      "Subject 5  =  93\n",
      "Total :  468\n",
      "Percentage :  93.6\n"
     ]
    }
   ],
   "source": [
    "percentage()"
   ]
  },
  {
   "cell_type": "code",
   "execution_count": 41,
   "id": "f519e0fe",
   "metadata": {},
   "outputs": [],
   "source": [
    "def AreaPerimeterofTriangle():\n",
    "    height = 32\n",
    "    breadth = 34\n",
    "    print('Height:', height)\n",
    "    print('Breadth:', breadth)\n",
    "    area = (height * breadth)/2\n",
    "    print('Area of Triangle:', area)\n",
    "    \n",
    "    height1 = 2\n",
    "    height2 = 4\n",
    "    breadth1 = 4\n",
    "    print('Height1:', height1)\n",
    "    print('Height2:', height2)\n",
    "    print('Breadth1:', breadth1)\n",
    "    perimeter = height1 +  height2 + breadth1\n",
    "    print('Perimter of Triangle:', perimeter)"
   ]
  },
  {
   "cell_type": "code",
   "execution_count": 54,
   "id": "2a719800",
   "metadata": {},
   "outputs": [
    {
     "name": "stdout",
     "output_type": "stream",
     "text": [
      "Height: 32\n",
      "Breadth: 34\n",
      "Area of Triangle: 544.0\n",
      "Height1: 2\n",
      "Height2: 4\n",
      "Breadth1: 4\n",
      "Perimter of Triangle: 10\n"
     ]
    }
   ],
   "source": [
    "AreaPerimeterofTriangle()"
   ]
  },
  {
   "cell_type": "code",
   "execution_count": null,
   "id": "39970fd7",
   "metadata": {},
   "outputs": [],
   "source": []
  }
 ],
 "metadata": {
  "kernelspec": {
   "display_name": "Python 3 (ipykernel)",
   "language": "python",
   "name": "python3"
  },
  "language_info": {
   "codemirror_mode": {
    "name": "ipython",
    "version": 3
   },
   "file_extension": ".py",
   "mimetype": "text/x-python",
   "name": "python",
   "nbconvert_exporter": "python",
   "pygments_lexer": "ipython3",
   "version": "3.9.13"
  }
 },
 "nbformat": 4,
 "nbformat_minor": 5
}
