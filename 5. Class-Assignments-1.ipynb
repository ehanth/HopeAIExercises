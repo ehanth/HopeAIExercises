{
 "cells": [
  {
   "cell_type": "code",
   "execution_count": 1,
   "id": "0f106c6f",
   "metadata": {},
   "outputs": [
    {
     "name": "stdout",
     "output_type": "stream",
     "text": [
      "Sub-fields in AI are:\n",
      "Machine Learning\n",
      "Neural Networks\n",
      "Vision\n",
      "Robotics\n",
      "Speech Processing\n",
      "Natural Language Processing\n"
     ]
    }
   ],
   "source": [
    "class SubfieldsInAI:\n",
    "    def __init__(self, initial_items=None):\n",
    "       \n",
    "        if initial_items is None:\n",
    "            self.items = []\n",
    "        else:\n",
    "            self.items = list(initial_items) # Ensure a copy is made\n",
    "\n",
    "    def add_item(self, item):\n",
    "\n",
    "        self.items.append(item)\n",
    "\n",
    "    def Subfields(self):\n",
    "\n",
    "        if not self.items:\n",
    "            print(\"The Sub-fields are empty.\")\n",
    "        else:\n",
    "            print(\"Sub-fields in AI are:\")\n",
    "            for item in self.items:\n",
    "                print(f\"{item}\")\n",
    "\n",
    "# usage\n",
    "my_list = SubfieldsInAI([\"Machine Learning\", \"Neural Networks\", \"Vision\", \"Robotics\", \"Speech Processing\", \"Natural Language Processing\"])\n",
    "my_list.Subfields()"
   ]
  },
  {
   "cell_type": "code",
   "execution_count": 4,
   "id": "65ced9d8",
   "metadata": {},
   "outputs": [
    {
     "name": "stdout",
     "output_type": "stream",
     "text": [
      "Enter a number: 4521\n"
     ]
    },
    {
     "data": {
      "text/plain": [
       "'4521 is an Odd number'"
      ]
     },
     "execution_count": 4,
     "metadata": {},
     "output_type": "execute_result"
    }
   ],
   "source": [
    "class OddEven:\n",
    "    def OddEven():\n",
    "        user_input = input(\"Enter a number: \")\n",
    "        number = int(user_input)\n",
    "        if number % 2 == 0:\n",
    "            message = str(number) + ' is an Even number'\n",
    "        else:\n",
    "            message = str(number) + ' is an Odd number'\n",
    "        return message\n",
    "    \n",
    "# usage\n",
    "OddEven.OddEven()"
   ]
  },
  {
   "cell_type": "code",
   "execution_count": 6,
   "id": "acea08b0",
   "metadata": {},
   "outputs": [
    {
     "name": "stdout",
     "output_type": "stream",
     "text": [
      "Your Gender : Male\n",
      "Your Age : 25\n"
     ]
    },
    {
     "data": {
      "text/plain": [
       "'ELIGIBLE'"
      ]
     },
     "execution_count": 6,
     "metadata": {},
     "output_type": "execute_result"
    }
   ],
   "source": [
    "class ElegiblityForMarriage:\n",
    "    def Elegible():\n",
    "        gender = str(input(\"Your Gender : \"))\n",
    "        age = int(input(\"Your Age : \"))\n",
    "                  \n",
    "        if gender == \"Male\":\n",
    "                  if age > 21:\n",
    "                      message = 'ELIGIBLE'\n",
    "                  else:\n",
    "                      message = 'NOT ELIGIBLE'\n",
    "        else:\n",
    "                  if age > 18:\n",
    "                      message = 'ELIGIBLE'\n",
    "                  else:\n",
    "                      message = 'NOT ELIGIBLE'\n",
    "        return message\n",
    "    \n",
    "# usage\n",
    "ElegiblityForMarriage.Elegible()"
   ]
  },
  {
   "cell_type": "code",
   "execution_count": 7,
   "id": "a33ad87d",
   "metadata": {},
   "outputs": [
    {
     "name": "stdout",
     "output_type": "stream",
     "text": [
      "Subject 1  =  98\n",
      "Subject 2  =  87\n",
      "Subject 3  =  95\n",
      "Subject 4  =  95\n",
      "Subject 5  =  93\n",
      "Total :  468\n",
      "Percentage :  93.6\n"
     ]
    }
   ],
   "source": [
    "class FindPercent:\n",
    "    def percentage():\n",
    "        marks = [98,87,95,95,93]\n",
    "        subjects = len(marks)\n",
    "        total = sum(marks)\n",
    "        count = 1\n",
    "        for a_mark in marks:\n",
    "            print('Subject', count, ' = ', a_mark)\n",
    "            count += 1\n",
    "        print('Total : ', total)\n",
    "        print('Percentage : ', total / subjects)\n",
    "\n",
    "# usage\n",
    "FindPercent.percentage()"
   ]
  },
  {
   "cell_type": "code",
   "execution_count": 8,
   "id": "469db346",
   "metadata": {},
   "outputs": [
    {
     "name": "stdout",
     "output_type": "stream",
     "text": [
      "Height: 32\n",
      "Breadth: 34\n",
      "Area of Triangle: 544.0\n",
      "Height1: 2\n",
      "Height2: 4\n",
      "Breadth1: 4\n",
      "Perimter of Triangle: 10\n"
     ]
    }
   ],
   "source": [
    "class Triangle:\n",
    "    def AreaPerimeterofTriangle():\n",
    "        height = 32\n",
    "        breadth = 34\n",
    "        print('Height:', height)\n",
    "        print('Breadth:', breadth)\n",
    "        area = (height * breadth)/2\n",
    "        print('Area of Triangle:', area)\n",
    "    \n",
    "        height1 = 2\n",
    "        height2 = 4\n",
    "        breadth1 = 4\n",
    "        print('Height1:', height1)\n",
    "        print('Height2:', height2)\n",
    "        print('Breadth1:', breadth1)\n",
    "        perimeter = height1 +  height2 + breadth1\n",
    "        print('Perimter of Triangle:', perimeter)\n",
    "\n",
    "# usage\n",
    "Triangle.AreaPerimeterofTriangle()"
   ]
  },
  {
   "cell_type": "code",
   "execution_count": null,
   "id": "999b79ea",
   "metadata": {},
   "outputs": [],
   "source": []
  }
 ],
 "metadata": {
  "kernelspec": {
   "display_name": "Python 3 (ipykernel)",
   "language": "python",
   "name": "python3"
  },
  "language_info": {
   "codemirror_mode": {
    "name": "ipython",
    "version": 3
   },
   "file_extension": ".py",
   "mimetype": "text/x-python",
   "name": "python",
   "nbconvert_exporter": "python",
   "pygments_lexer": "ipython3",
   "version": "3.9.13"
  }
 },
 "nbformat": 4,
 "nbformat_minor": 5
}
