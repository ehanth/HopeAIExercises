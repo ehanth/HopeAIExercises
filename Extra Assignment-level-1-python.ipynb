{
 "cells": [
  {
   "cell_type": "code",
   "execution_count": 1,
   "id": "a0e073f1",
   "metadata": {},
   "outputs": [
    {
     "name": "stdout",
     "output_type": "stream",
     "text": [
      "Hope AI\n"
     ]
    }
   ],
   "source": [
    "print('Hope AI')"
   ]
  },
  {
   "cell_type": "code",
   "execution_count": 4,
   "id": "adae2fd5",
   "metadata": {},
   "outputs": [
    {
     "name": "stdout",
     "output_type": "stream",
     "text": [
      "enter your institute name? : Hope AI\n"
     ]
    }
   ],
   "source": [
    "result = input('enter your institute name? : ')"
   ]
  },
  {
   "cell_type": "code",
   "execution_count": 6,
   "id": "d031e77c",
   "metadata": {},
   "outputs": [
    {
     "name": "stdout",
     "output_type": "stream",
     "text": [
      "enter your name : Raj\n",
      "enter your age : 15\n",
      "enter your school name : Guru school\n",
      "enter your degree : B.E CSE\n"
     ]
    }
   ],
   "source": [
    "name = input('enter your name : ')\n",
    "age = input('enter your age : ')\n",
    "school_name = input('enter your school name : ')\n",
    "degree = input('enter your degree : ')"
   ]
  },
  {
   "cell_type": "code",
   "execution_count": 7,
   "id": "c20bb014",
   "metadata": {},
   "outputs": [
    {
     "name": "stdout",
     "output_type": "stream",
     "text": [
      "Sub=  9\n"
     ]
    }
   ],
   "source": [
    "a = 43\n",
    "b = 34\n",
    "print('Sub= ', a-b)"
   ]
  },
  {
   "cell_type": "code",
   "execution_count": 8,
   "id": "257678c5",
   "metadata": {},
   "outputs": [
    {
     "name": "stdout",
     "output_type": "stream",
     "text": [
      "Mul=  6111\n"
     ]
    }
   ],
   "source": [
    "a= 63\n",
    "b= 97\n",
    "print('Mul= ', a* b)"
   ]
  },
  {
   "cell_type": "code",
   "execution_count": 9,
   "id": "b616b552",
   "metadata": {},
   "outputs": [
    {
     "name": "stdout",
     "output_type": "stream",
     "text": [
      "Float Div = 2.4516129032258065\n"
     ]
    }
   ],
   "source": [
    "a= 76\n",
    "b= 31\n",
    "print('Float Div =', a / b)"
   ]
  },
  {
   "cell_type": "code",
   "execution_count": 10,
   "id": "685fe505",
   "metadata": {},
   "outputs": [
    {
     "name": "stdout",
     "output_type": "stream",
     "text": [
      "Floor Div = 2\n"
     ]
    }
   ],
   "source": [
    "a= 76\n",
    "b= 31\n",
    "print('Floor Div =', a//b)"
   ]
  },
  {
   "cell_type": "code",
   "execution_count": 11,
   "id": "5325f14f",
   "metadata": {},
   "outputs": [
    {
     "name": "stdout",
     "output_type": "stream",
     "text": [
      "Modulo =  14\n"
     ]
    }
   ],
   "source": [
    "a= 76\n",
    "b= 31\n",
    "print('Modulo = ', a%b)"
   ]
  },
  {
   "cell_type": "code",
   "execution_count": 14,
   "id": "3179fb5d",
   "metadata": {},
   "outputs": [
    {
     "name": "stdout",
     "output_type": "stream",
     "text": [
      "Power =  256\n"
     ]
    }
   ],
   "source": [
    "a= 4\n",
    "b= 4\n",
    "print('Power = ', a**b)"
   ]
  },
  {
   "cell_type": "code",
   "execution_count": null,
   "id": "f858d8e2",
   "metadata": {},
   "outputs": [],
   "source": []
  }
 ],
 "metadata": {
  "kernelspec": {
   "display_name": "Python 3 (ipykernel)",
   "language": "python",
   "name": "python3"
  },
  "language_info": {
   "codemirror_mode": {
    "name": "ipython",
    "version": 3
   },
   "file_extension": ".py",
   "mimetype": "text/x-python",
   "name": "python",
   "nbconvert_exporter": "python",
   "pygments_lexer": "ipython3",
   "version": "3.9.13"
  }
 },
 "nbformat": 4,
 "nbformat_minor": 5
}
