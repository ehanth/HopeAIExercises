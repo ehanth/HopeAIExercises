{
 "cells": [
  {
   "cell_type": "code",
   "execution_count": 1,
   "id": "66cf6b1e",
   "metadata": {},
   "outputs": [
    {
     "name": "stdout",
     "output_type": "stream",
     "text": [
      "Welcome to Assignment-1\n"
     ]
    }
   ],
   "source": [
    "print('Welcome to Assignment-1')"
   ]
  },
  {
   "cell_type": "code",
   "execution_count": 3,
   "id": "8c231273",
   "metadata": {},
   "outputs": [
    {
     "name": "stdout",
     "output_type": "stream",
     "text": [
      "Num1=  10\n",
      "Num2=  30\n",
      "Add=  40\n"
     ]
    }
   ],
   "source": [
    "Num1=10\n",
    "Num2=30\n",
    "print('Num1= ', Num1)\n",
    "print('Num2= ', Num2)\n",
    "print('Add= ', Num1+Num2)"
   ]
  },
  {
   "cell_type": "code",
   "execution_count": 8,
   "id": "76c6ffc1",
   "metadata": {},
   "outputs": [
    {
     "name": "stdout",
     "output_type": "stream",
     "text": [
      "Enter the BMI index : 28.5\n",
      "OverWeight\n"
     ]
    }
   ],
   "source": [
    "bmi_ind = float(input('Enter the BMI index : '))\n",
    "if bmi_ind <= 18.4:\n",
    "    print('Underweight')\n",
    "elif (bmi_ind > 18.4) and (bmi_ind <= 24.9):\n",
    "    print('Normal')\n",
    "elif (bmi_ind > 24.9) and (bmi_ind <= 39.9):\n",
    "    print('OverWeight')\n",
    "else:\n",
    "    print('Obese')"
   ]
  },
  {
   "cell_type": "code",
   "execution_count": null,
   "id": "4bf01051",
   "metadata": {},
   "outputs": [],
   "source": []
  },
  {
   "cell_type": "code",
   "execution_count": null,
   "id": "117d66c7",
   "metadata": {},
   "outputs": [],
   "source": []
  }
 ],
 "metadata": {
  "kernelspec": {
   "display_name": "Python 3 (ipykernel)",
   "language": "python",
   "name": "python3"
  },
  "language_info": {
   "codemirror_mode": {
    "name": "ipython",
    "version": 3
   },
   "file_extension": ".py",
   "mimetype": "text/x-python",
   "name": "python",
   "nbconvert_exporter": "python",
   "pygments_lexer": "ipython3",
   "version": "3.9.13"
  }
 },
 "nbformat": 4,
 "nbformat_minor": 5
}
