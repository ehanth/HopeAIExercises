{
 "cells": [
  {
   "cell_type": "code",
   "execution_count": 1,
   "id": "c31523c2",
   "metadata": {},
   "outputs": [
    {
     "name": "stdout",
     "output_type": "stream",
     "text": [
      "hello world!\n"
     ]
    }
   ],
   "source": [
    "print('hello world!')"
   ]
  },
  {
   "cell_type": "code",
   "execution_count": 5,
   "id": "fe07a83d",
   "metadata": {},
   "outputs": [
    {
     "name": "stdout",
     "output_type": "stream",
     "text": [
      "Enter the number1 - 25\n",
      "Enter the number2 - 15\n",
      "40\n"
     ]
    }
   ],
   "source": [
    "num1 = int(input('Enter the number1 - '))\n",
    "num2 = int(input('Enter the number2 - '))\n",
    "print(num1 + num2)"
   ]
  },
  {
   "cell_type": "code",
   "execution_count": 6,
   "id": "488e5b0e",
   "metadata": {},
   "outputs": [
    {
     "name": "stdout",
     "output_type": "stream",
     "text": [
      "Enter the Age - 21\n",
      "Adult\n"
     ]
    }
   ],
   "source": [
    "num = int(input('Enter the Age - '))\n",
    "if (num> 18):\n",
    "    print('Adult')"
   ]
  },
  {
   "cell_type": "code",
   "execution_count": 8,
   "id": "dab6ff9d",
   "metadata": {},
   "outputs": [
    {
     "name": "stdout",
     "output_type": "stream",
     "text": [
      "Enter the Age - 5\n",
      "Kid\n"
     ]
    }
   ],
   "source": [
    "num = int(input('Enter the Age - '))\n",
    "if (num < 18):\n",
    "    print('Kid')\n",
    "else:\n",
    "    print('Adult')\n",
    "        "
   ]
  },
  {
   "cell_type": "code",
   "execution_count": 1,
   "id": "107b32b0",
   "metadata": {},
   "outputs": [
    {
     "name": "stdout",
     "output_type": "stream",
     "text": [
      "Age : 52\n",
      "Senior Citizen\n"
     ]
    }
   ],
   "source": [
    "age = int(input('Age : '))\n",
    "if age <= 10:\n",
    "    print('Child')\n",
    "elif (age > 10) and (age <= 20):\n",
    "    print('Adult')\n",
    "elif (age > 20) and (age <= 50):\n",
    "    print('Citizen')\n",
    "else:\n",
    "    print('Senior Citizen')"
   ]
  },
  {
   "cell_type": "code",
   "execution_count": 2,
   "id": "cebeddac",
   "metadata": {},
   "outputs": [
    {
     "name": "stdout",
     "output_type": "stream",
     "text": [
      "Enter a number: -25\n",
      "-25.0 is a negative number.\n"
     ]
    }
   ],
   "source": [
    "num = float(input(\"Enter a number: \"))\n",
    "if num > 0:\n",
    "    print(f\"{num} is a positive number.\")\n",
    "elif num < 0:\n",
    "    print(f\"{num} is a negative number.\")\n",
    "else:\n",
    "    print(f\"{num} is zero.\")"
   ]
  },
  {
   "cell_type": "code",
   "execution_count": 7,
   "id": "8a4ad8b7",
   "metadata": {},
   "outputs": [
    {
     "name": "stdout",
     "output_type": "stream",
     "text": [
      "Enter a number to check : 22\n",
      "No. is not divisible by 5\n"
     ]
    }
   ],
   "source": [
    "num = int(input('Enter a number to check : '))\n",
    "if (num % 5 ==0):\n",
    "    print('No. is divisible by 5')\n",
    "else:\n",
    "    print('No. is not divisible by 5')"
   ]
  },
  {
   "cell_type": "code",
   "execution_count": null,
   "id": "1b7c8335",
   "metadata": {},
   "outputs": [],
   "source": []
  }
 ],
 "metadata": {
  "kernelspec": {
   "display_name": "Python 3 (ipykernel)",
   "language": "python",
   "name": "python3"
  },
  "language_info": {
   "codemirror_mode": {
    "name": "ipython",
    "version": 3
   },
   "file_extension": ".py",
   "mimetype": "text/x-python",
   "name": "python",
   "nbconvert_exporter": "python",
   "pygments_lexer": "ipython3",
   "version": "3.9.13"
  }
 },
 "nbformat": 4,
 "nbformat_minor": 5
}
